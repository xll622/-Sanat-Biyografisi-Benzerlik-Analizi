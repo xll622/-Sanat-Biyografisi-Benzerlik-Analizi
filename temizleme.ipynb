{
 "cells": [
  {
   "cell_type": "code",
   "execution_count": 2,
   "id": "27b69a6c-4bd7-4870-9701-c33f5731114d",
   "metadata": {},
   "outputs": [
    {
     "name": "stderr",
     "output_type": "stream",
     "text": [
      "[nltk_data] Downloading package punkt to C:\\Users\\Elif\n",
      "[nltk_data]     Koyuncu\\AppData\\Roaming\\nltk_data...\n",
      "[nltk_data]   Package punkt is already up-to-date!\n",
      "[nltk_data] Downloading package stopwords to C:\\Users\\Elif\n",
      "[nltk_data]     Koyuncu\\AppData\\Roaming\\nltk_data...\n",
      "[nltk_data]   Package stopwords is already up-to-date!\n"
     ]
    },
    {
     "name": "stdout",
     "output_type": "stream",
     "text": [
      "                                               cumle  \\\n",
      "0  --- Frida Kahlo ---\\nMagdalena Carmen Frida Ka...   \n",
      "1  Inspired by the country's popular culture, she...   \n",
      "2  Her paintings often had strong autobiographica...   \n",
      "3  In addition to belonging to the post-revolutio...   \n",
      "4  She is also known for painting about her exper...   \n",
      "\n",
      "                                   temizlenmis_cumle  \n",
      "0  [frida, kahlo, magdalena, carmen, frida, kahlo...  \n",
      "1  [inspired, country, popular, culture, employed...  \n",
      "2  [paintings, often, strong, autobiographical, e...  \n",
      "3  [addition, belonging, mexicayotl, movement, so...  \n",
      "4  [also, known, painting, experience, chronic, p...  \n"
     ]
    }
   ],
   "source": [
    "import pandas as pd\n",
    "import nltk\n",
    "import string\n",
    "from nltk.corpus import stopwords\n",
    "from nltk.tokenize import word_tokenize\n",
    "\n",
    "# Gerekli NLTK bileşenlerini indir\n",
    "nltk.download('punkt')\n",
    "nltk.download('stopwords')\n",
    "\n",
    "# İngilizce stopword ve noktalama karakterleri\n",
    "stop_words = set(stopwords.words('english'))\n",
    "punctuations = set(string.punctuation)\n",
    "\n",
    "# Dosyayı oku\n",
    "df = pd.read_csv('cumlelere_ayrilmis_tum_metin.csv')  # Bu dosyada 'cumle' sütunu olmalı\n",
    "\n",
    "# Temizleme fonksiyonu (tek cümle için çalışır)\n",
    "def temizle_cumle(cumle):\n",
    "    tokens = word_tokenize(str(cumle).lower())\n",
    "    temiz = [\n",
    "        ''.join(ch for ch in token if ch not in punctuations)\n",
    "        for token in tokens\n",
    "        if token.isalpha() and token not in stop_words\n",
    "    ]\n",
    "    return [kelime for kelime in temiz if kelime]\n",
    "\n",
    "# Cümleleri temizle\n",
    "df['temizlenmis_cumle'] = df['cumle'].apply(temizle_cumle)\n",
    "\n",
    "# Kontrol amaçlı göster\n",
    "print(df[['cumle', 'temizlenmis_cumle']].head())\n",
    "\n",
    "# Yeni CSV dosyası olarak kaydet\n",
    "df.to_csv('temizlenmis_metin.csv', index=False)\n"
   ]
  },
  {
   "cell_type": "code",
   "execution_count": null,
   "id": "1d9877f5-d163-4f1f-acfe-86b0a978b955",
   "metadata": {},
   "outputs": [],
   "source": []
  }
 ],
 "metadata": {
  "kernelspec": {
   "display_name": "Python [conda env:base] *",
   "language": "python",
   "name": "conda-base-py"
  },
  "language_info": {
   "codemirror_mode": {
    "name": "ipython",
    "version": 3
   },
   "file_extension": ".py",
   "mimetype": "text/x-python",
   "name": "python",
   "nbconvert_exporter": "python",
   "pygments_lexer": "ipython3",
   "version": "3.12.7"
  }
 },
 "nbformat": 4,
 "nbformat_minor": 5
}

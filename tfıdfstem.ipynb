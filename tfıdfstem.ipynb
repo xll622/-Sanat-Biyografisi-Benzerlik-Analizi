{
 "cells": [
  {
   "cell_type": "code",
   "execution_count": 30,
   "id": "47ef9dc5-f755-4b23-858b-a1ae94c7d638",
   "metadata": {},
   "outputs": [
    {
     "name": "stdout",
     "output_type": "stream",
     "text": [
      "\n",
      "--- TF-IDF Matrisi İlk 5 Satır ---\n",
      "   abl  abstract  academi  accept  accompani  accord  account  achiev  across  \\\n",
      "0  0.0       0.0      0.0     0.0        0.0     0.0      0.0     0.0     0.0   \n",
      "1  0.0       0.0      0.0     0.0        0.0     0.0      0.0     0.0     0.0   \n",
      "2  0.0       0.0      0.0     0.0        0.0     0.0      0.0     0.0     0.0   \n",
      "3  0.0       0.0      0.0     0.0        0.0     0.0      0.0     0.0     0.0   \n",
      "4  0.0       0.0      0.0     0.0        0.0     0.0      0.0     0.0     0.0   \n",
      "\n",
      "   act  ...  writer  written  wrote  yale  year  yet  york  young  younger  \\\n",
      "0  0.0  ...     0.0      0.0    0.0   0.0   0.0  0.0   0.0    0.0      0.0   \n",
      "1  0.0  ...     0.0      0.0    0.0   0.0   0.0  0.0   0.0    0.0      0.0   \n",
      "2  0.0  ...     0.0      0.0    0.0   0.0   0.0  0.0   0.0    0.0      0.0   \n",
      "3  0.0  ...     0.0      0.0    0.0   0.0   0.0  0.0   0.0    0.0      0.0   \n",
      "4  0.0  ...     0.0      0.0    0.0   0.0   0.0  0.0   0.0    0.0      0.0   \n",
      "\n",
      "   youth  \n",
      "0    0.0  \n",
      "1    0.0  \n",
      "2    0.0  \n",
      "3    0.0  \n",
      "4    0.0  \n",
      "\n",
      "[5 rows x 1000 columns]\n"
     ]
    }
   ],
   "source": [
    "import pandas as pd\n",
    "from sklearn.feature_extraction.text import TfidfVectorizer\n",
    "\n",
    "df = pd.read_csv(\"stem_cumleler.csv\")\n",
    "\n",
    "def temizle_ve_duzleştir(x):\n",
    "    try:\n",
    "        liste = eval(str(x))\n",
    "        if all(isinstance(i, list) for i in liste):\n",
    "            return [item for alt in liste for item in alt]\n",
    "        return liste\n",
    "    except:\n",
    "        return []\n",
    "\n",
    "token_liste = df[\"stemlenmis_cumle\"].apply(temizle_ve_duzleştir)\n",
    "\n",
    "stemmed_texts = [' '.join(tokens) for tokens in token_liste]\n",
    "\n",
    "tfidf = TfidfVectorizer(max_features=1000)\n",
    "tfidf_matrix = tfidf.fit_transform(stemmed_texts)\n",
    "tfidf_df = pd.DataFrame(tfidf_matrix.toarray(), columns=tfidf.get_feature_names_out())\n",
    "\n",
    "tfidf_df.to_csv(\"tfidf_stemmed_metin.csv\", index=False)\n",
    "print(\"\\n--- TF-IDF Matrisi İlk 5 Satır ---\")\n",
    "print(tfidf_df.head())"
   ]
  },
  {
   "cell_type": "code",
   "execution_count": null,
   "id": "ed768f82-b7e0-44d3-bfa2-d1fdf57b774b",
   "metadata": {},
   "outputs": [],
   "source": []
  }
 ],
 "metadata": {
  "kernelspec": {
   "display_name": "Python [conda env:base] *",
   "language": "python",
   "name": "conda-base-py"
  },
  "language_info": {
   "codemirror_mode": {
    "name": "ipython",
    "version": 3
   },
   "file_extension": ".py",
   "mimetype": "text/x-python",
   "name": "python",
   "nbconvert_exporter": "python",
   "pygments_lexer": "ipython3",
   "version": "3.12.7"
  }
 },
 "nbformat": 4,
 "nbformat_minor": 5
}

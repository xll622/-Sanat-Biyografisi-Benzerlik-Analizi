{
 "cells": [
  {
   "cell_type": "code",
   "execution_count": 36,
   "id": "2a9cd29d-38ef-4e74-b007-d22065371bf2",
   "metadata": {},
   "outputs": [
    {
     "name": "stdout",
     "output_type": "stream",
     "text": [
      "stemmed_model_cbow_window2_dim100.model saved!\n",
      "stemmed_model_skipgram_window2_dim100.model saved!\n",
      "stemmed_model_cbow_window4_dim100.model saved!\n",
      "stemmed_model_skipgram_window4_dim100.model saved!\n",
      "stemmed_model_cbow_window2_dim300.model saved!\n",
      "stemmed_model_skipgram_window2_dim300.model saved!\n",
      "stemmed_model_cbow_window4_dim300.model saved!\n",
      "stemmed_model_skipgram_window4_dim300.model saved!\n",
      "Stemize edilmiş yorumlar için modeller başarıyla eğitildi ve kaydedildi.\n"
     ]
    }
   ],
   "source": [
    "import pandas as pd\n",
    "from gensim.models import Word2Vec\n",
    "\n",
    "df = pd.read_csv(\"stem_cumleler.csv\")\n",
    "\n",
    "df = df.head(5000)\n",
    "\n",
    "df[\"stemlenmis_cumle\"] = df[\"stemlenmis_cumle\"].apply(lambda x: x.split())\n",
    "\n",
    "parameters = [\n",
    "    {'model_type': 'cbow', 'window': 2, 'vector_size': 100},\n",
    "    {'model_type': 'skipgram', 'window': 2, 'vector_size': 100},\n",
    "    {'model_type': 'cbow', 'window': 4, 'vector_size': 100},\n",
    "    {'model_type': 'skipgram', 'window': 4, 'vector_size': 100},\n",
    "    {'model_type': 'cbow', 'window': 2, 'vector_size': 300},\n",
    "    {'model_type': 'skipgram', 'window': 2, 'vector_size': 300},\n",
    "    {'model_type': 'cbow', 'window': 4, 'vector_size': 300},\n",
    "    {'model_type': 'skipgram', 'window': 4, 'vector_size': 300}\n",
    "]\n",
    "\n",
    "def train_and_save_model(corpus, params, model_name):\n",
    "    model = Word2Vec(\n",
    "        corpus,\n",
    "        vector_size=params['vector_size'],\n",
    "        window=params['window'],\n",
    "        min_count=1,\n",
    "        sg=1 if params['model_type'] == 'skipgram' else 0\n",
    "    )\n",
    "    \n",
    "    model.save(f\"{model_name}_{params['model_type']}_window{params['window']}_dim{params['vector_size']}.model\")\n",
    "    print(f\"{model_name}_{params['model_type']}_window{params['window']}_dim{params['vector_size']}.model saved!\")\n",
    "\n",
    "for param in parameters:\n",
    "    train_and_save_model(df[\"stemlenmis_cumle\"], param, \"stemmed_model\")\n",
    "\n",
    "print(\"Stemize edilmiş yorumlar için modeller başarıyla eğitildi ve kaydedildi.\")\n"
   ]
  },
  {
   "cell_type": "code",
   "execution_count": null,
   "id": "3d719317-cb04-4acc-a01e-0c1cc3528c81",
   "metadata": {},
   "outputs": [],
   "source": []
  }
 ],
 "metadata": {
  "kernelspec": {
   "display_name": "Python [conda env:base] *",
   "language": "python",
   "name": "conda-base-py"
  },
  "language_info": {
   "codemirror_mode": {
    "name": "ipython",
    "version": 3
   },
   "file_extension": ".py",
   "mimetype": "text/x-python",
   "name": "python",
   "nbconvert_exporter": "python",
   "pygments_lexer": "ipython3",
   "version": "3.12.7"
  }
 },
 "nbformat": 4,
 "nbformat_minor": 5
}

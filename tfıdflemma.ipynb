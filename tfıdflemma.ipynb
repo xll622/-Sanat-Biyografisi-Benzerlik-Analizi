{
 "cells": [
  {
   "cell_type": "code",
   "execution_count": 25,
   "id": "dcb628b1-f676-49a0-b758-a54bf3dcabf9",
   "metadata": {},
   "outputs": [
    {
     "name": "stdout",
     "output_type": "stream",
     "text": [
      "\n",
      "--- TF-IDF Matrisi İlk 5 Satır ---\n",
      "   able  abstract  academy  according  achievement  across  act  action  \\\n",
      "0   0.0       0.0      0.0        0.0          0.0     0.0  0.0     0.0   \n",
      "1   0.0       0.0      0.0        0.0          0.0     0.0  0.0     0.0   \n",
      "2   0.0       0.0      0.0        0.0          0.0     0.0  0.0     0.0   \n",
      "3   0.0       0.0      0.0        0.0          0.0     0.0  0.0     0.0   \n",
      "4   0.0       0.0      0.0        0.0          0.0     0.0  0.0     0.0   \n",
      "\n",
      "   activist  addition  ...  writing  written  wrote  yale  year  yet  york  \\\n",
      "0       0.0  0.000000  ...      0.0      0.0    0.0   0.0   0.0  0.0   0.0   \n",
      "1       0.0  0.000000  ...      0.0      0.0    0.0   0.0   0.0  0.0   0.0   \n",
      "2       0.0  0.000000  ...      0.0      0.0    0.0   0.0   0.0  0.0   0.0   \n",
      "3       0.0  0.431679  ...      0.0      0.0    0.0   0.0   0.0  0.0   0.0   \n",
      "4       0.0  0.000000  ...      0.0      0.0    0.0   0.0   0.0  0.0   0.0   \n",
      "\n",
      "   young  younger  youth  \n",
      "0    0.0      0.0    0.0  \n",
      "1    0.0      0.0    0.0  \n",
      "2    0.0      0.0    0.0  \n",
      "3    0.0      0.0    0.0  \n",
      "4    0.0      0.0    0.0  \n",
      "\n",
      "[5 rows x 1000 columns]\n"
     ]
    }
   ],
   "source": [
    "import pandas as pd\n",
    "from sklearn.feature_extraction.text import TfidfVectorizer\n",
    "\n",
    "dosya_yolu = pd.read_csv(\"lemmatize_metin.csv\")\n",
    "\n",
    "def temizle_ve_duzleştir(x):\n",
    "    try:\n",
    "        liste = eval(str(x))\n",
    "        if all(isinstance(i, list) for i in liste):\n",
    "            return [item for alt in liste for item in alt]\n",
    "        return liste\n",
    "    except:\n",
    "        return []\n",
    "\n",
    "token_liste = dosya_yolu[\"lemmatize_cumle\"].apply(temizle_ve_duzleştir)\n",
    "\n",
    "lemmatized_texts = [' '.join(tokens) for tokens in token_liste]\n",
    "\n",
    "tfidf = TfidfVectorizer(max_features=1000)\n",
    "tfidf_matrix = tfidf.fit_transform(lemmatized_texts)\n",
    "tfidf_df = pd.DataFrame(tfidf_matrix.toarray(), columns=tfidf.get_feature_names_out())\n",
    "\n",
    "tfidf_df.to_csv(\"tfidf_lemmatize_metin.csv\", index=False)\n",
    "print(\"\\n--- TF-IDF Matrisi İlk 5 Satır ---\")\n",
    "print(tfidf_df.head())"
   ]
  },
  {
   "cell_type": "code",
   "execution_count": null,
   "id": "e5f05c7f-f5f7-4402-b866-1748269f4818",
   "metadata": {},
   "outputs": [],
   "source": []
  }
 ],
 "metadata": {
  "kernelspec": {
   "display_name": "Python [conda env:base] *",
   "language": "python",
   "name": "conda-base-py"
  },
  "language_info": {
   "codemirror_mode": {
    "name": "ipython",
    "version": 3
   },
   "file_extension": ".py",
   "mimetype": "text/x-python",
   "name": "python",
   "nbconvert_exporter": "python",
   "pygments_lexer": "ipython3",
   "version": "3.12.7"
  }
 },
 "nbformat": 4,
 "nbformat_minor": 5
}

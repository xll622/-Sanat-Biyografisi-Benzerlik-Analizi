{
 "cells": [
  {
   "cell_type": "code",
   "execution_count": 1,
   "id": "d0224795-1b0a-44be-a218-4c82c14c5b72",
   "metadata": {},
   "outputs": [
    {
     "name": "stderr",
     "output_type": "stream",
     "text": [
      "[nltk_data] Downloading package punkt to\n",
      "[nltk_data]     C:\\Users\\esra\\AppData\\Roaming\\nltk_data...\n",
      "[nltk_data]   Package punkt is already up-to-date!\n",
      "[nltk_data] Downloading package stopwords to\n",
      "[nltk_data]     C:\\Users\\esra\\AppData\\Roaming\\nltk_data...\n",
      "[nltk_data]   Package stopwords is already up-to-date!\n"
     ]
    },
    {
     "name": "stdout",
     "output_type": "stream",
     "text": [
      "Stopword'ler çıkarıldı! Yeni dosya: sanatcilar_biyografi_filtered.txt 📜✅\n"
     ]
    }
   ],
   "source": [
    "import nltk\n",
    "from nltk.tokenize import word_tokenize\n",
    "from nltk.corpus import stopwords\n",
    "\n",
    "# Stopword listesini indir (sadece bir kez gerekli)\n",
    "nltk.download('punkt')\n",
    "nltk.download('stopwords')\n",
    "\n",
    "# Türkçe stopword listesini al\n",
    "stop_words = set(stopwords.words('english'))\n",
    "\n",
    "# Dosyayı aç ve içeriğini oku\n",
    "with open(\"sanatcilar_biyografi.txt\", \"r\", encoding=\"utf-8\") as file:\n",
    "    text = file.read()\n",
    "\n",
    "# Kelimeleri tokenize et\n",
    "word_tokens = word_tokenize(text)\n",
    "\n",
    "# Stopword'leri filtrele\n",
    "filtered_words = [word for word in word_tokens if word.isalpha() and word.lower() not in stop_words]\n",
    "\n",
    "# Filtrelenmiş metni yeniden oluştur\n",
    "filtered_text = \" \".join(filtered_words)\n",
    "\n",
    "# Yeni dosyaya kaydet\n",
    "with open(\"sanatcilar_biyografi_filtered.txt\", \"w\", encoding=\"utf-8\") as file:\n",
    "    file.write(filtered_text)\n",
    "\n",
    "print(\"Stopword'ler çıkarıldı! Yeni dosya: sanatcilar_biyografi_filtered.txt 📜✅\")\n",
    "\n"
   ]
  },
  {
   "cell_type": "code",
   "execution_count": null,
   "id": "56260025-3ba3-4b5d-81f5-46106b50e287",
   "metadata": {},
   "outputs": [],
   "source": []
  },
  {
   "cell_type": "code",
   "execution_count": null,
   "id": "5f3a81d0-abd0-411a-8ae7-8465b2aa1a25",
   "metadata": {},
   "outputs": [],
   "source": []
  }
 ],
 "metadata": {
  "kernelspec": {
   "display_name": "Python 3 (ipykernel)",
   "language": "python",
   "name": "python3"
  },
  "language_info": {
   "codemirror_mode": {
    "name": "ipython",
    "version": 3
   },
   "file_extension": ".py",
   "mimetype": "text/x-python",
   "name": "python",
   "nbconvert_exporter": "python",
   "pygments_lexer": "ipython3",
   "version": "3.13.2"
  }
 },
 "nbformat": 4,
 "nbformat_minor": 5
}

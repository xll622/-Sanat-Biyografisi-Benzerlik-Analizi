{
 "cells": [
  {
   "cell_type": "code",
   "execution_count": 4,
   "id": "34149185-44b6-4b0d-8a2c-cc1c09d641e9",
   "metadata": {},
   "outputs": [
    {
     "name": "stderr",
     "output_type": "stream",
     "text": [
      "[nltk_data] Downloading package punkt to C:\\Users\\Elif\n",
      "[nltk_data]     Koyuncu\\AppData\\Roaming\\nltk_data...\n",
      "[nltk_data]   Package punkt is already up-to-date!\n"
     ]
    },
    {
     "name": "stdout",
     "output_type": "stream",
     "text": [
      "                                               cumle\n",
      "0  --- Frida Kahlo ---\\nMagdalena Carmen Frida Ka...\n",
      "1  Inspired by the country's popular culture, she...\n",
      "2  Her paintings often had strong autobiographica...\n",
      "3  In addition to belonging to the post-revolutio...\n",
      "4  She is also known for painting about her exper...\n"
     ]
    }
   ],
   "source": [
    "import nltk\n",
    "nltk.download('punkt')\n",
    "from nltk.tokenize import sent_tokenize\n",
    "import pandas as pd\n",
    "\n",
    "with open('sanatcilar_biyografi.txt', 'r', encoding='utf-8') as f:\n",
    "    metin = f.read()\n",
    "\n",
    "cumleler = sent_tokenize(metin)\n",
    "\n",
    "df = pd.DataFrame(cumleler, columns=['cumle'])\n",
    "\n",
    "print(df.head())\n",
    "\n",
    "df.to_csv('cumlelere_ayrilmis_tum_metin.csv', index=False)\n",
    "\n"
   ]
  },
  {
   "cell_type": "code",
   "execution_count": null,
   "id": "9391cd5b-30c8-465b-b97c-4ca5ceb40ca6",
   "metadata": {},
   "outputs": [],
   "source": []
  }
 ],
 "metadata": {
  "kernelspec": {
   "display_name": "Python [conda env:base] *",
   "language": "python",
   "name": "conda-base-py"
  },
  "language_info": {
   "codemirror_mode": {
    "name": "ipython",
    "version": 3
   },
   "file_extension": ".py",
   "mimetype": "text/x-python",
   "name": "python",
   "nbconvert_exporter": "python",
   "pygments_lexer": "ipython3",
   "version": "3.12.7"
  }
 },
 "nbformat": 4,
 "nbformat_minor": 5
}

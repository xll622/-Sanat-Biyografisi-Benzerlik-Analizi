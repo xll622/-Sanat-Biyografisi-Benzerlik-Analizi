{
 "cells": [
  {
   "cell_type": "code",
   "execution_count": 4,
   "id": "85e2962e-fe86-4f0f-97eb-973da10ebce4",
   "metadata": {},
   "outputs": [
    {
     "name": "stderr",
     "output_type": "stream",
     "text": [
      "[nltk_data] Downloading package punkt to\n",
      "[nltk_data]     C:\\Users\\esra\\AppData\\Roaming\\nltk_data...\n",
      "[nltk_data]   Package punkt is already up-to-date!\n",
      "[nltk_data] Downloading package wordnet to\n",
      "[nltk_data]     C:\\Users\\esra\\AppData\\Roaming\\nltk_data...\n",
      "[nltk_data]   Package wordnet is already up-to-date!\n"
     ]
    },
    {
     "name": "stdout",
     "output_type": "stream",
     "text": [
      "Lemmatize Edilmiş Kelimeler: ['frida', 'kahlo', 'magdalena', 'carmen', 'frida', 'kahlo', 'calderon', 'temmuz', 'temmuz', 'meksikalı', 'ressamdır', 'bir', 'yirminci', 'yüzyıl', 'popüler', 'kültür', 'ikonu', 'hâline', 'gelen', 'ressam', 'resimlerinin', 'yanı', 'sıra', 'inişli', 'çıkışlı', 'özel', 'yaşamı', 'politik', 'görüşleri', 'tanınır', 'sanatı', 'sürrealist', 'olarak', 'tanımlanmışsa', 'kendisi', 'tanımı', 'reddetmiştir', 'ressam', 'diego', 'eşidir', 'yaşamı', 'yılında', 'güneyindeki', 'dünyaya', 'geldi', 'temmuz', 'günü', 'doğmuş', 'olmasına', 'rağmen']\n"
     ]
    }
   ],
   "source": [
    "import nltk\n",
    "from nltk.stem import WordNetLemmatizer\n",
    "from nltk.tokenize import word_tokenize\n",
    "\n",
    "# Gerekli kaynakları indir\n",
    "nltk.download('punkt')\n",
    "nltk.download('wordnet')\n",
    "\n",
    "# Lemmatizer nesnesini oluştur\n",
    "lemmatizer = WordNetLemmatizer()\n",
    "\n",
    "# Lowercased dosyayı aç ve oku\n",
    "dosya_yolu = \"sanatcilar_biyografi_lowercased.txt\"\n",
    "\n",
    "try:\n",
    "    with open(dosya_yolu, \"r\", encoding=\"utf-8\") as file:\n",
    "        text = file.read()\n",
    "except FileNotFoundError:\n",
    "    print(f\"Hata: '{dosya_yolu}' adlı dosya bulunamadı!\")\n",
    "    exit()\n",
    "\n",
    "# Kelimeleri tokenize et\n",
    "word_tokens = word_tokenize(text)\n",
    "\n",
    "# Lemmatizasyon uygula\n",
    "lemmatized_words = [lemmatizer.lemmatize(word) for word in word_tokens]\n",
    "\n",
    "# Sonucu ekrana yazdır\n",
    "print(\"Lemmatize Edilmiş Kelimeler:\", lemmatized_words[:50])  # İlk 50 kelimeyi gösteriyoruz\n"
   ]
  },
  {
   "cell_type": "code",
   "execution_count": null,
   "id": "320bd52b-aa02-4bf9-8747-866486e61b8d",
   "metadata": {},
   "outputs": [],
   "source": []
  }
 ],
 "metadata": {
  "kernelspec": {
   "display_name": "Python 3 (ipykernel)",
   "language": "python",
   "name": "python3"
  },
  "language_info": {
   "codemirror_mode": {
    "name": "ipython",
    "version": 3
   },
   "file_extension": ".py",
   "mimetype": "text/x-python",
   "name": "python",
   "nbconvert_exporter": "python",
   "pygments_lexer": "ipython3",
   "version": "3.13.2"
  }
 },
 "nbformat": 4,
 "nbformat_minor": 5
}

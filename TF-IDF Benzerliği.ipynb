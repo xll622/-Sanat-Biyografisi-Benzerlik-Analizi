{
 "cells": [
  {
   "cell_type": "code",
   "execution_count": 1,
   "id": "026898a3-2119-4c40-a32c-f82f33f8f70e",
   "metadata": {},
   "outputs": [
    {
     "name": "stdout",
     "output_type": "stream",
     "text": [
      "                   Artist     Biography\n",
      "0             Frida Kahlo        ressam\n",
      "1               Meksikalı  empresyonist\n",
      "2  Pablo Picasso İspanyol        kübist\n"
     ]
    }
   ],
   "source": [
    "import pandas as pd\n",
    "\n",
    "words = ['Frida', 'Kahlo', 'ressam', 'Meksikalı', 'empresyonist',\n",
    "         'Pablo', 'Picasso', 'İspanyol', 'kübist']\n",
    "\n",
    "df = pd.DataFrame({'Word': words})\n",
    "\n",
    "artist_bios = {}\n",
    "current_artist_words = []\n",
    "current_bio_words = []\n",
    "\n",
    "for word in df['Word']:\n",
    "    if word[0].isupper():\n",
    "        # Büyük harfli kelime, yeni sanatçı kelimesi demek\n",
    "        if current_bio_words:\n",
    "            # Önceki sanatçının tam adını birleştirip kaydet\n",
    "            artist_name = ' '.join(current_artist_words)\n",
    "            artist_bios[artist_name] = ' '.join(current_bio_words)\n",
    "            current_bio_words = []\n",
    "            current_artist_words = []\n",
    "        current_artist_words.append(word)\n",
    "    else:\n",
    "        # Küçük harfli kelime, biyografi kelimesi\n",
    "        current_bio_words.append(word)\n",
    "\n",
    "# Son sanatçıyı da ekle\n",
    "if current_artist_words:\n",
    "    artist_name = ' '.join(current_artist_words)\n",
    "    artist_bios[artist_name] = ' '.join(current_bio_words)\n",
    "\n",
    "# Sonuçları DataFrame yapalım\n",
    "grouped = pd.DataFrame(list(artist_bios.items()), columns=['Artist', 'Biography'])\n",
    "\n",
    "print(grouped)\n"
   ]
  },
  {
   "cell_type": "code",
   "execution_count": 2,
   "id": "f49c9f60-8082-4486-85ac-e626d50c12e7",
   "metadata": {},
   "outputs": [],
   "source": [
    "from sklearn.feature_extraction.text import TfidfVectorizer\n",
    "\n",
    "vectorizer = TfidfVectorizer()\n",
    "tfidf_matrix = vectorizer.fit_transform(grouped['Biography'])\n"
   ]
  },
  {
   "cell_type": "code",
   "execution_count": 3,
   "id": "1755757c-f5eb-40c4-b5ca-c5070c8d8738",
   "metadata": {},
   "outputs": [],
   "source": [
    "from sklearn.metrics.pairwise import cosine_similarity\n",
    "\n",
    "cosine_sim = cosine_similarity(tfidf_matrix)\n"
   ]
  },
  {
   "cell_type": "code",
   "execution_count": 4,
   "id": "c1f395ac-8a57-469a-b10d-aca3838f820d",
   "metadata": {},
   "outputs": [
    {
     "name": "stdout",
     "output_type": "stream",
     "text": [
      "                        Frida Kahlo  Meksikalı  Pablo Picasso İspanyol\n",
      "Frida Kahlo                     1.0        0.0                     0.0\n",
      "Meksikalı                       0.0        1.0                     0.0\n",
      "Pablo Picasso İspanyol          0.0        0.0                     1.0\n"
     ]
    }
   ],
   "source": [
    "import pandas as pd\n",
    "\n",
    "artists = grouped['Artist'].tolist()\n",
    "similarity_df = pd.DataFrame(cosine_sim, index=artists, columns=artists)\n",
    "\n",
    "print(similarity_df)\n"
   ]
  },
  {
   "cell_type": "code",
   "execution_count": null,
   "id": "f230274f-f847-41e2-85eb-7296ed9a3b72",
   "metadata": {},
   "outputs": [],
   "source": []
  }
 ],
 "metadata": {
  "kernelspec": {
   "display_name": "Python 3 (ipykernel)",
   "language": "python",
   "name": "python3"
  },
  "language_info": {
   "codemirror_mode": {
    "name": "ipython",
    "version": 3
   },
   "file_extension": ".py",
   "mimetype": "text/x-python",
   "name": "python",
   "nbconvert_exporter": "python",
   "pygments_lexer": "ipython3",
   "version": "3.12.0"
  }
 },
 "nbformat": 4,
 "nbformat_minor": 5
}

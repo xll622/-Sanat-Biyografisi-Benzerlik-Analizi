{
 "cells": [
  {
   "cell_type": "code",
   "execution_count": 1,
   "id": "e0e7563d-5c07-472a-bb7a-01b2792988ca",
   "metadata": {},
   "outputs": [],
   "source": [
    "import pandas as pd\n",
    "\n",
    "words = ['Frida', 'Kahlo', 'ressam', 'Meksikalı', 'empresyonist',\n",
    "         'Pablo', 'Picasso', 'İspanyol', 'kübist']\n",
    "\n",
    "df = pd.DataFrame({'Word': words})\n",
    "\n",
    "artist_bios = {}\n",
    "current_artist_words = []\n",
    "current_bio_words = []\n",
    "\n",
    "for word in df['Word']:\n",
    "    if word[0].isupper():\n",
    "        if current_bio_words:\n",
    "            artist_name = ' '.join(current_artist_words)\n",
    "            artist_bios[artist_name] = ' '.join(current_bio_words)\n",
    "            current_bio_words = []\n",
    "            current_artist_words = []\n",
    "        current_artist_words.append(word)\n",
    "    else:\n",
    "        current_bio_words.append(word)\n",
    "\n",
    "if current_artist_words:\n",
    "    artist_name = ' '.join(current_artist_words)\n",
    "    artist_bios[artist_name] = ' '.join(current_bio_words)\n",
    "\n",
    "grouped = pd.DataFrame(list(artist_bios.items()), columns=['Artist', 'Biography'])\n",
    "\n"
   ]
  },
  {
   "cell_type": "code",
   "execution_count": 2,
   "id": "5407cc76-7193-4f93-a81a-c5c62a12cbba",
   "metadata": {},
   "outputs": [],
   "source": [
    "from gensim.models import Word2Vec\n",
    "\n",
    "# Örnek model (bunu kendi model yolunla değiştir)\n",
    "# model = Word2Vec.load('path_to_your_word2vec_model')\n"
   ]
  },
  {
   "cell_type": "code",
   "execution_count": 5,
   "id": "a402240e-5ac5-4485-8550-4fd14350b7be",
   "metadata": {},
   "outputs": [],
   "source": [
    "from gensim.models import KeyedVectors\n",
    "\n",
    "# Google News Word2Vec modeli (çok büyük, 3.4GB)\n",
    "# model = KeyedVectors.load_word2vec_format('GoogleNews-vectors-negative300.bin', binary=True)\n",
    "\n",
    "# Alternatif: küçük örnek model oluşturabilirsin (deneme için)\n",
    "from gensim.models import Word2Vec\n",
    "\n",
    "sentences = [\n",
    "    ['frida', 'kahlo', 'ressam', 'meksikalı', 'empresyonist'],\n",
    "    ['pablo', 'picasso', 'ispanyol', 'kübist']\n",
    "]\n",
    "\n",
    "model = Word2Vec(sentences, vector_size=100, window=5, min_count=1, workers=4)\n"
   ]
  },
  {
   "cell_type": "code",
   "execution_count": 6,
   "id": "baf36f5b-0161-4f66-8a8f-bbfd8c2e70b4",
   "metadata": {},
   "outputs": [],
   "source": [
    "import numpy as np\n",
    "\n",
    "def get_sentence_vector(sentence, model):\n",
    "    vectors = []\n",
    "    for word in sentence.split():\n",
    "        if word in model.wv:\n",
    "            vectors.append(model.wv[word])\n",
    "    if len(vectors) == 0:\n",
    "        return np.zeros(model.vector_size)\n",
    "    else:\n",
    "        return np.mean(vectors, axis=0)\n",
    "\n",
    "grouped['Vector'] = grouped['Biography'].apply(lambda x: get_sentence_vector(x, model))\n"
   ]
  },
  {
   "cell_type": "code",
   "execution_count": 1,
   "id": "9467886b-08f4-431a-b277-45f055697315",
   "metadata": {},
   "outputs": [
    {
     "ename": "NameError",
     "evalue": "name 'grouped' is not defined",
     "output_type": "error",
     "traceback": [
      "\u001b[31m---------------------------------------------------------------------------\u001b[39m",
      "\u001b[31mNameError\u001b[39m                                 Traceback (most recent call last)",
      "\u001b[36mCell\u001b[39m\u001b[36m \u001b[39m\u001b[32mIn[1]\u001b[39m\u001b[32m, line 1\u001b[39m\n\u001b[32m----> \u001b[39m\u001b[32m1\u001b[39m \u001b[38;5;28mprint\u001b[39m(\u001b[43mgrouped\u001b[49m[\u001b[33m'\u001b[39m\u001b[33mArtist\u001b[39m\u001b[33m'\u001b[39m].unique())\n",
      "\u001b[31mNameError\u001b[39m: name 'grouped' is not defined"
     ]
    }
   ],
   "source": [
    "print(grouped['Artist'].unique())\n",
    "\n"
   ]
  },
  {
   "cell_type": "code",
   "execution_count": 2,
   "id": "b07aa961-5a42-4788-92c2-4712d4eef5dc",
   "metadata": {},
   "outputs": [],
   "source": [
    "def get_sentence_vector(sentence, model):\n",
    "    vectors = []\n",
    "    for word in sentence.split():\n",
    "        if word in model.wv:\n",
    "            vectors.append(model.wv[word])\n",
    "    if len(vectors) == 0:\n",
    "        return np.zeros(model.vector_size)\n",
    "    else:\n",
    "        return np.mean(vectors, axis=0)\n",
    "\n"
   ]
  },
  {
   "cell_type": "code",
   "execution_count": 5,
   "id": "397c9db1-8ceb-4169-8fe1-e1311f3ee375",
   "metadata": {},
   "outputs": [
    {
     "ename": "NameError",
     "evalue": "name 'grouped' is not defined",
     "output_type": "error",
     "traceback": [
      "\u001b[31m---------------------------------------------------------------------------\u001b[39m",
      "\u001b[31mNameError\u001b[39m                                 Traceback (most recent call last)",
      "\u001b[36mCell\u001b[39m\u001b[36m \u001b[39m\u001b[32mIn[5]\u001b[39m\u001b[32m, line 3\u001b[39m\n\u001b[32m      1\u001b[39m \u001b[38;5;28;01mfrom\u001b[39;00m\u001b[38;5;250m \u001b[39m\u001b[34;01mgensim\u001b[39;00m\u001b[34;01m.\u001b[39;00m\u001b[34;01mmodels\u001b[39;00m\u001b[38;5;250m \u001b[39m\u001b[38;5;28;01mimport\u001b[39;00m Word2Vec\n\u001b[32m----> \u001b[39m\u001b[32m3\u001b[39m sentences = [bio.split() \u001b[38;5;28;01mfor\u001b[39;00m bio \u001b[38;5;129;01min\u001b[39;00m \u001b[43mgrouped\u001b[49m[\u001b[33m'\u001b[39m\u001b[33mBiography\u001b[39m\u001b[33m'\u001b[39m]]  \u001b[38;5;66;03m# tokenize ettik\u001b[39;00m\n\u001b[32m      5\u001b[39m model = Word2Vec(sentences, vector_size=\u001b[32m100\u001b[39m, window=\u001b[32m5\u001b[39m, min_count=\u001b[32m1\u001b[39m, workers=\u001b[32m4\u001b[39m)\n",
      "\u001b[31mNameError\u001b[39m: name 'grouped' is not defined"
     ]
    }
   ],
   "source": [
    "from gensim.models import Word2Vec\n",
    "\n",
    "sentences = [bio.split() for bio in grouped['Biography']]  # tokenize ettik\n",
    "\n",
    "model = Word2Vec(sentences, vector_size=100, window=5, min_count=1, workers=4)\n"
   ]
  },
  {
   "cell_type": "code",
   "execution_count": null,
   "id": "e38aa361-195d-4a99-8267-6a97144a7453",
   "metadata": {},
   "outputs": [],
   "source": []
  }
 ],
 "metadata": {
  "kernelspec": {
   "display_name": "Python 3 (ipykernel)",
   "language": "python",
   "name": "python3"
  },
  "language_info": {
   "codemirror_mode": {
    "name": "ipython",
    "version": 3
   },
   "file_extension": ".py",
   "mimetype": "text/x-python",
   "name": "python",
   "nbconvert_exporter": "python",
   "pygments_lexer": "ipython3",
   "version": "3.12.0"
  }
 },
 "nbformat": 4,
 "nbformat_minor": 5
}

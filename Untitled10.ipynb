{
 "cells": [
  {
   "cell_type": "code",
   "execution_count": 1,
   "id": "90304382-1bf4-4226-a983-a6b11781cf75",
   "metadata": {},
   "outputs": [
    {
     "name": "stderr",
     "output_type": "stream",
     "text": [
      "\n",
      "[notice] A new release of pip is available: 23.2.1 -> 25.1.1\n",
      "[notice] To update, run: python.exe -m pip install --upgrade pip\n"
     ]
    },
    {
     "name": "stdout",
     "output_type": "stream",
     "text": [
      "Requirement already satisfied: gensim in c:\\users\\esra\\appdata\\local\\programs\\python\\python312\\lib\\site-packages (4.3.3)\n",
      "Requirement already satisfied: numpy<2.0,>=1.18.5 in c:\\users\\esra\\appdata\\local\\programs\\python\\python312\\lib\\site-packages (from gensim) (1.26.4)\n",
      "Requirement already satisfied: scipy<1.14.0,>=1.7.0 in c:\\users\\esra\\appdata\\local\\programs\\python\\python312\\lib\\site-packages (from gensim) (1.13.1)\n",
      "Requirement already satisfied: smart-open>=1.8.1 in c:\\users\\esra\\appdata\\local\\programs\\python\\python312\\lib\\site-packages (from gensim) (7.1.0)\n",
      "Requirement already satisfied: wrapt in c:\\users\\esra\\appdata\\local\\programs\\python\\python312\\lib\\site-packages (from smart-open>=1.8.1->gensim) (1.17.2)\n"
     ]
    }
   ],
   "source": [
    "!pip install gensim\n",
    "import gensim.downloader as api\n",
    "import numpy as np\n",
    "import pandas as pd\n",
    "from sklearn.metrics.pairwise import cosine_similarity\n"
   ]
  },
  {
   "cell_type": "code",
   "execution_count": 2,
   "id": "807fa246-3c9c-4533-842f-33e7f3008d68",
   "metadata": {},
   "outputs": [
    {
     "name": "stdout",
     "output_type": "stream",
     "text": [
      "[==================================================] 100.0% 66.0/66.0MB downloaded\n"
     ]
    }
   ],
   "source": [
    "import gensim.downloader as api\n",
    "\n",
    "model = api.load(\"glove-wiki-gigaword-50\")  # SADECE 66MB\n"
   ]
  },
  {
   "cell_type": "code",
   "execution_count": 8,
   "id": "837188a9-592b-4fdb-8f4b-41af14f4a516",
   "metadata": {},
   "outputs": [],
   "source": [
    "def get_sentence_vector(text, model):\n",
    "    words = text.lower().split()\n",
    "    vectors = []\n",
    "    for w in words:\n",
    "        if w in model:\n",
    "            vectors.append(model[w])\n",
    "    if len(vectors) == 0:\n",
    "        return np.zeros(model.vector_size)  # hiç kelime yoksa sıfır vektör\n",
    "    return np.mean(vectors, axis=0)  # kelime vektörlerinin ortalaması\n"
   ]
  },
  {
   "cell_type": "code",
   "execution_count": 9,
   "id": "927a28ab-85bf-4504-b4c4-c8b6fa9610e4",
   "metadata": {},
   "outputs": [],
   "source": [
    "def cosine_similarity_safe(vec1, vec2):\n",
    "    norm1 = np.linalg.norm(vec1)\n",
    "    norm2 = np.linalg.norm(vec2)\n",
    "    if norm1 == 0 or norm2 == 0:\n",
    "        return 0.0  # sıfır vektör olunca 0 benzerlik\n",
    "    return np.dot(vec1, vec2) / (norm1 * norm2)\n"
   ]
  },
  {
   "cell_type": "code",
   "execution_count": 10,
   "id": "d3a58c93-b0b1-4c55-bcd3-2833b7fab788",
   "metadata": {},
   "outputs": [],
   "source": [
    "df = pd.read_csv(\"sanatcilar_biyografi_lemmatized.csv\")\n",
    "\n",
    "# Kolon adın 'Lemmatized Words' dedin, ona göre vektörleri ekle\n",
    "df['Vector'] = df['Lemmatized Words'].apply(lambda x: get_sentence_vector(str(x), model))\n"
   ]
  },
  {
   "cell_type": "code",
   "execution_count": 11,
   "id": "e0e01d22-9888-4440-9e3f-234cfe0bd251",
   "metadata": {},
   "outputs": [],
   "source": [
    "def get_top5_similar(input_vector, df):\n",
    "    similarities = []\n",
    "    for vec in df['Vector']:\n",
    "        sim = cosine_similarity_safe(input_vector, vec)\n",
    "        similarities.append(sim)\n",
    "    df['Similarity'] = similarities\n",
    "    top5 = df.sort_values(by='Similarity', ascending=False).head(5)\n",
    "    return top5[['Lemmatized Words', 'Similarity']]\n"
   ]
  },
  {
   "cell_type": "code",
   "execution_count": 12,
   "id": "b3ca87ed-9a5f-45e6-a48a-1926a1f40eab",
   "metadata": {},
   "outputs": [
    {
     "name": "stdout",
     "output_type": "stream",
     "text": [
      "       Lemmatized Words  Similarity\n",
      "0                 frida    0.883045\n",
      "161653            frida    0.883045\n",
      "86                frida    0.883045\n",
      "400               frida    0.883045\n",
      "129386            frida    0.883045\n"
     ]
    }
   ],
   "source": [
    "input_text = \"Frida Kahlo ressam Meksikalı\"\n",
    "input_vector = get_sentence_vector(input_text, model)\n",
    "\n",
    "top5 = get_top5_similar(input_vector, df)\n",
    "print(top5)\n"
   ]
  },
  {
   "cell_type": "code",
   "execution_count": 13,
   "id": "42ce9466-7619-4dfd-b111-ec6c4eca21b4",
   "metadata": {},
   "outputs": [
    {
     "name": "stdout",
     "output_type": "stream",
     "text": [
      "count    197614.0\n",
      "mean          1.0\n",
      "std           0.0\n",
      "min           1.0\n",
      "25%           1.0\n",
      "50%           1.0\n",
      "75%           1.0\n",
      "max           1.0\n",
      "Name: Lemmatized Words, dtype: float64\n"
     ]
    }
   ],
   "source": [
    "print(df['Lemmatized Words'].apply(lambda x: len(str(x).split())).describe())\n"
   ]
  },
  {
   "cell_type": "code",
   "execution_count": 14,
   "id": "dcbff6c7-e821-43da-9d5b-769d3f666494",
   "metadata": {},
   "outputs": [
    {
     "name": "stdout",
     "output_type": "stream",
     "text": [
      "Index(['Lemmatized Words', 'Vector', 'Similarity'], dtype='object')\n"
     ]
    }
   ],
   "source": [
    "print(df.columns)\n"
   ]
  },
  {
   "cell_type": "code",
   "execution_count": null,
   "id": "fe30ffab-949f-4720-aacf-8b2bd5dcbd86",
   "metadata": {},
   "outputs": [],
   "source": []
  }
 ],
 "metadata": {
  "kernelspec": {
   "display_name": "Python 3 (ipykernel)",
   "language": "python",
   "name": "python3"
  },
  "language_info": {
   "codemirror_mode": {
    "name": "ipython",
    "version": 3
   },
   "file_extension": ".py",
   "mimetype": "text/x-python",
   "name": "python",
   "nbconvert_exporter": "python",
   "pygments_lexer": "ipython3",
   "version": "3.12.0"
  }
 },
 "nbformat": 4,
 "nbformat_minor": 5
}

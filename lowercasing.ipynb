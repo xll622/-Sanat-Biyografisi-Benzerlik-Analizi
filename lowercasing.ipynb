{
 "cells": [
  {
   "cell_type": "code",
   "execution_count": 1,
   "id": "91654d97-2293-417c-9a83-612bb73d14b4",
   "metadata": {},
   "outputs": [
    {
     "name": "stdout",
     "output_type": "stream",
     "text": [
      "Lowercasing tamamlandı! ✅ Dosya: sanatcilar_biyografi_lowercased.txt\n"
     ]
    }
   ],
   "source": [
    "# Tokenizasyon sonucu elde edilen dosyayı aç\n",
    "with open(\"sanatcilar_biyografi_tokenized.txt\", \"r\", encoding=\"utf-8\") as file:\n",
    "    text = file.read()\n",
    "\n",
    "# ✅ Tüm metni küçük harfe çevir\n",
    "lowercased_text = text.lower()\n",
    "\n",
    "# Yeni dosyaya kaydet\n",
    "with open(\"sanatcilar_biyografi_lowercased.txt\", \"w\", encoding=\"utf-8\") as file:\n",
    "    file.write(lowercased_text)\n",
    "\n",
    "print(\"Lowercasing tamamlandı! ✅ Dosya: sanatcilar_biyografi_lowercased.txt\")\n"
   ]
  },
  {
   "cell_type": "code",
   "execution_count": null,
   "id": "1d04d4aa-17a6-4ea2-9fcd-345ad478ad68",
   "metadata": {},
   "outputs": [],
   "source": []
  },
  {
   "cell_type": "code",
   "execution_count": null,
   "id": "2656de77-58e5-4ff2-abb7-d9d20c867603",
   "metadata": {},
   "outputs": [],
   "source": []
  }
 ],
 "metadata": {
  "kernelspec": {
   "display_name": "Python 3 (ipykernel)",
   "language": "python",
   "name": "python3"
  },
  "language_info": {
   "codemirror_mode": {
    "name": "ipython",
    "version": 3
   },
   "file_extension": ".py",
   "mimetype": "text/x-python",
   "name": "python",
   "nbconvert_exporter": "python",
   "pygments_lexer": "ipython3",
   "version": "3.13.2"
  }
 },
 "nbformat": 4,
 "nbformat_minor": 5
}

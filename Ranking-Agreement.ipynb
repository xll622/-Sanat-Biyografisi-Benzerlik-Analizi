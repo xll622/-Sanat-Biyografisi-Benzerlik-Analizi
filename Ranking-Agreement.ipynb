{
 "cells": [
  {
   "cell_type": "code",
   "execution_count": 1,
   "id": "112a52d1-10c7-4173-9801-f8683a172739",
   "metadata": {},
   "outputs": [
    {
     "name": "stdout",
     "output_type": "stream",
     "text": [
      "Requirement already satisfied: scipy in c:\\users\\esra\\appdata\\local\\programs\\python\\python312\\lib\\site-packages (1.13.1)\n",
      "Requirement already satisfied: pandas in c:\\users\\esra\\appdata\\local\\programs\\python\\python312\\lib\\site-packages (2.2.3)\n",
      "Requirement already satisfied: numpy<2.3,>=1.22.4 in c:\\users\\esra\\appdata\\local\\programs\\python\\python312\\lib\\site-packages (from scipy) (1.26.4)\n",
      "Requirement already satisfied: python-dateutil>=2.8.2 in c:\\users\\esra\\appdata\\local\\programs\\python\\python312\\lib\\site-packages (from pandas) (2.9.0.post0)\n",
      "Requirement already satisfied: pytz>=2020.1 in c:\\users\\esra\\appdata\\local\\programs\\python\\python312\\lib\\site-packages (from pandas) (2025.2)\n",
      "Requirement already satisfied: tzdata>=2022.7 in c:\\users\\esra\\appdata\\local\\programs\\python\\python312\\lib\\site-packages (from pandas) (2025.2)\n",
      "Requirement already satisfied: six>=1.5 in c:\\users\\esra\\appdata\\local\\programs\\python\\python312\\lib\\site-packages (from python-dateutil>=2.8.2->pandas) (1.17.0)\n"
     ]
    },
    {
     "name": "stderr",
     "output_type": "stream",
     "text": [
      "\n",
      "[notice] A new release of pip is available: 23.2.1 -> 25.1.1\n",
      "[notice] To update, run: python.exe -m pip install --upgrade pip\n"
     ]
    }
   ],
   "source": [
    "!pip install scipy pandas\n"
   ]
  },
  {
   "cell_type": "code",
   "execution_count": 2,
   "id": "59979d8f-4a0c-4b82-8ad0-1c0d5b524c6a",
   "metadata": {},
   "outputs": [],
   "source": [
    "import pandas as pd\n",
    "from scipy.stats import spearmanr, kendalltau\n"
   ]
  },
  {
   "cell_type": "code",
   "execution_count": 3,
   "id": "493e3a63-e291-4a69-81b1-8673e3d2d3ec",
   "metadata": {},
   "outputs": [],
   "source": [
    "# Model 1'in 5 benzer metni, ve bunların sıralama pozisyonları\n",
    "model1_results = ['A', 'B', 'C', 'D', 'E']\n",
    "model1_ranks = [1, 2, 3, 4, 5]  # Bun zaten sıralama pozisyonları, genelde böyle\n",
    "\n",
    "# Model 2'nin 5 benzer metni (aynı metinler sıralanacak ama farklı pozisyonlarda olabilir)\n",
    "model2_results = ['B', 'A', 'E', 'D', 'C']\n",
    "\n",
    "# Şimdi model2 için model1'in sonuçları bazında sıralama pozisyonu bulmamız lazım\n",
    "# Yani model1_results içindeki her metnin model2 sonuçlarındaki sırasını çıkaracağız\n",
    "\n",
    "model2_ranks = [model2_results.index(x) + 1 for x in model1_results]  # +1 çünkü sıralama 1'den başlasın\n"
   ]
  },
  {
   "cell_type": "code",
   "execution_count": 4,
   "id": "d77211f8-6134-470c-9795-3977395b3713",
   "metadata": {},
   "outputs": [
    {
     "name": "stdout",
     "output_type": "stream",
     "text": [
      "Spearman korelasyon: 0.500\n",
      "Kendall tau: 0.200\n"
     ]
    }
   ],
   "source": [
    "spearman_corr, _ = spearmanr(model1_ranks, model2_ranks)\n",
    "kendall_corr, _ = kendalltau(model1_ranks, model2_ranks)\n",
    "\n",
    "print(f\"Spearman korelasyon: {spearman_corr:.3f}\")\n",
    "print(f\"Kendall tau: {kendall_corr:.3f}\")\n"
   ]
  },
  {
   "cell_type": "code",
   "execution_count": 5,
   "id": "e26aebb6-213d-4f99-8aa2-f67deb068316",
   "metadata": {},
   "outputs": [
    {
     "name": "stdout",
     "output_type": "stream",
     "text": [
      "Spearman korelasyonu: 0.500\n",
      "Kendall tau korelasyonu: 0.200\n"
     ]
    }
   ],
   "source": [
    "from scipy.stats import spearmanr, kendalltau\n",
    "\n",
    "# Örnek, Model1 ve Model2'nin önerdiği 5 benzer metin (ID, isim veya string olabilir)\n",
    "model1_results = ['text1', 'text2', 'text3', 'text4', 'text5']  # Örnek model 1 sonuçları\n",
    "model2_results = ['text2', 'text1', 'text5', 'text4', 'text3']  # Model 2 sonuçları, farklı sıralamada\n",
    "\n",
    "def ranking_agreement(model1_results, model2_results):\n",
    "    # Model1'e göre model2'nin sıralamasını çıkar\n",
    "    model1_ranks = list(range(1, len(model1_results) + 1))\n",
    "    model2_ranks = [model2_results.index(x) + 1 for x in model1_results]\n",
    "\n",
    "    spearman_corr, _ = spearmanr(model1_ranks, model2_ranks)\n",
    "    kendall_corr, _ = kendalltau(model1_ranks, model2_ranks)\n",
    "\n",
    "    return spearman_corr, kendall_corr\n",
    "\n",
    "# Fonksiyonu çalıştır\n",
    "spearman_score, kendall_score = ranking_agreement(model1_results, model2_results)\n",
    "\n",
    "print(f\"Spearman korelasyonu: {spearman_score:.3f}\")\n",
    "print(f\"Kendall tau korelasyonu: {kendall_score:.3f}\")\n"
   ]
  },
  {
   "cell_type": "code",
   "execution_count": null,
   "id": "705761ca-ed24-48db-a11b-f945b497a507",
   "metadata": {},
   "outputs": [],
   "source": []
  }
 ],
 "metadata": {
  "kernelspec": {
   "display_name": "Python 3 (ipykernel)",
   "language": "python",
   "name": "python3"
  },
  "language_info": {
   "codemirror_mode": {
    "name": "ipython",
    "version": 3
   },
   "file_extension": ".py",
   "mimetype": "text/x-python",
   "name": "python",
   "nbconvert_exporter": "python",
   "pygments_lexer": "ipython3",
   "version": "3.12.0"
  }
 },
 "nbformat": 4,
 "nbformat_minor": 5
}

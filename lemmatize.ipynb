{
 "cells": [
  {
   "cell_type": "code",
   "execution_count": 8,
   "id": "c691bb05-13ad-4e40-bfcb-9552fe57802c",
   "metadata": {},
   "outputs": [
    {
     "name": "stderr",
     "output_type": "stream",
     "text": [
      "[nltk_data] Downloading package wordnet to C:\\Users\\Elif\n",
      "[nltk_data]     Koyuncu\\AppData\\Roaming\\nltk_data...\n",
      "[nltk_data]   Package wordnet is already up-to-date!\n"
     ]
    },
    {
     "name": "stdout",
     "output_type": "stream",
     "text": [
      "                                   temizlenmis_cumle  \\\n",
      "0  ['frida', 'kahlo', 'magdalena', 'carmen', 'fri...   \n",
      "1  ['inspired', 'country', 'popular', 'culture', ...   \n",
      "2  ['paintings', 'often', 'strong', 'autobiograph...   \n",
      "3  ['addition', 'belonging', 'mexicayotl', 'movem...   \n",
      "4  ['also', 'known', 'painting', 'experience', 'c...   \n",
      "\n",
      "                                     lemmatize_cumle  \n",
      "0  [frida, kahlo, magdalena, carmen, frida, kahlo...  \n",
      "1  [inspired, country, popular, culture, employed...  \n",
      "2  [painting, often, strong, autobiographical, el...  \n",
      "3  [addition, belonging, mexicayotl, movement, so...  \n",
      "4  [also, known, painting, experience, chronic, p...  \n"
     ]
    }
   ],
   "source": [
    "import pandas as pd\n",
    "import nltk\n",
    "from nltk.stem import WordNetLemmatizer\n",
    "nltk.download('wordnet')\n",
    "\n",
    "lemmatizer = WordNetLemmatizer()\n",
    "\n",
    "df = pd.read_csv(\"temizlenmis_metin.csv\")\n",
    "\n",
    "import ast\n",
    "\n",
    "def lemmatize_et(kelime_listesi):\n",
    "    try:\n",
    "        kelime_listesi = ast.literal_eval(str(kelime_listesi))\n",
    "    except:\n",
    "        kelime_listesi = []\n",
    "        \n",
    "    return [lemmatizer.lemmatize(kelime) for kelime in kelime_listesi]\n",
    "\n",
    "df['lemmatize_cumle'] = df['temizlenmis_cumle'].apply(lemmatize_et)\n",
    "\n",
    "print(df[['temizlenmis_cumle', 'lemmatize_cumle']].head())\n",
    "\n",
    "df.to_csv('lemmatize_metin.csv', index=False)\n"
   ]
  },
  {
   "cell_type": "code",
   "execution_count": null,
   "id": "d8df3b37-79bf-48e6-b2d2-ce76a8c940f2",
   "metadata": {},
   "outputs": [],
   "source": []
  }
 ],
 "metadata": {
  "kernelspec": {
   "display_name": "Python [conda env:base] *",
   "language": "python",
   "name": "conda-base-py"
  },
  "language_info": {
   "codemirror_mode": {
    "name": "ipython",
    "version": 3
   },
   "file_extension": ".py",
   "mimetype": "text/x-python",
   "name": "python",
   "nbconvert_exporter": "python",
   "pygments_lexer": "ipython3",
   "version": "3.12.7"
  }
 },
 "nbformat": 4,
 "nbformat_minor": 5
}

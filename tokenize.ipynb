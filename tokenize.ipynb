{
 "cells": [
  {
   "cell_type": "code",
   "execution_count": 1,
   "id": "88653c83-f1ae-4821-853f-572d725e7cdf",
   "metadata": {},
   "outputs": [
    {
     "name": "stderr",
     "output_type": "stream",
     "text": [
      "[nltk_data] Downloading package punkt to\n",
      "[nltk_data]     C:\\Users\\esra\\AppData\\Roaming\\nltk_data...\n",
      "[nltk_data]   Package punkt is already up-to-date!\n"
     ]
    },
    {
     "name": "stdout",
     "output_type": "stream",
     "text": [
      "🔹 Kelime sayısı: 974882\n",
      "🔹 Cümle sayısı: 1\n",
      "Tokenizasyon tamamlandı! ✅ Dosya: sanatcilar_biyografi_tokenized.txt\n"
     ]
    }
   ],
   "source": [
    "import nltk\n",
    "from nltk.tokenize import word_tokenize, sent_tokenize\n",
    "\n",
    "nltk.download('punkt')\n",
    "\n",
    "# Filtrelenmiş sanatçı biyografi dosyasını aç\n",
    "with open(\"sanatcilar_biyografi_filtered.txt\", \"r\", encoding=\"utf-8\") as file:\n",
    "    text = file.read()\n",
    "\n",
    "# ✨ Kelime bazlı tokenizasyon\n",
    "word_tokens = word_tokenize(text)\n",
    "\n",
    "# ✨ Cümle bazlı tokenizasyon\n",
    "sentence_tokens = sent_tokenize(text)\n",
    "\n",
    "# Sonuçları görüntüleyelim!\n",
    "print(f\"🔹 Kelime sayısı: {len(word_tokens)}\")\n",
    "print(f\"🔹 Cümle sayısı: {len(sentence_tokens)}\")\n",
    "\n",
    "# Tokenize edilmiş veriyi kaydetmek istersen:\n",
    "with open(\"sanatcilar_biyografi_tokenized.txt\", \"w\", encoding=\"utf-8\") as file:\n",
    "    file.write(\" \".join(word_tokens))\n",
    "\n",
    "print(\"Tokenizasyon tamamlandı! ✅ Dosya: sanatcilar_biyografi_tokenized.txt\")\n"
   ]
  },
  {
   "cell_type": "code",
   "execution_count": null,
   "id": "457a52c1-6bea-40cd-afb0-cffffadf63ea",
   "metadata": {},
   "outputs": [],
   "source": []
  }
 ],
 "metadata": {
  "kernelspec": {
   "display_name": "Python 3 (ipykernel)",
   "language": "python",
   "name": "python3"
  },
  "language_info": {
   "codemirror_mode": {
    "name": "ipython",
    "version": 3
   },
   "file_extension": ".py",
   "mimetype": "text/x-python",
   "name": "python",
   "nbconvert_exporter": "python",
   "pygments_lexer": "ipython3",
   "version": "3.13.2"
  }
 },
 "nbformat": 4,
 "nbformat_minor": 5
}

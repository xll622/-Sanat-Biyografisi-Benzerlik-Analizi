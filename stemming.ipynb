{
 "cells": [
  {
   "cell_type": "code",
   "execution_count": 6,
   "id": "ca483cbb-7708-444b-8aff-3dd074eddf62",
   "metadata": {},
   "outputs": [
    {
     "name": "stdout",
     "output_type": "stream",
     "text": [
      "Modül başarıyla yüklendi!\n"
     ]
    }
   ],
   "source": [
    "import nltk\n",
    "import wikipediaapi\n",
    "print(\"Modül başarıyla yüklendi!\")"
   ]
  },
  {
   "cell_type": "code",
   "execution_count": 7,
   "id": "8667b815-7273-4281-a7e8-df70109385ae",
   "metadata": {},
   "outputs": [],
   "source": [
    "from nltk.stem import WordNetLemmatizer\n",
    "from nltk.tokenize import word_tokenize"
   ]
  },
  {
   "cell_type": "code",
   "execution_count": 8,
   "id": "945fa0f0-611a-4b68-97de-f40c18293472",
   "metadata": {},
   "outputs": [],
   "source": [
    "# Wikipedia API nesnesini oluşturuyoruz\n",
    "wiki_wiki = wikipediaapi.Wikipedia(user_agent=\"MyApp/1.0 (myemail@example.com)\", language=\"en\")\n",
    "\n",
    "# Dosyayı açıp içeriğini sözlük olarak okumalıyız\n",
    "sanatci_listesi = {}\n",
    "\n",
    "with open(\"sanatcilar_biyografi.txt\", \"r\", encoding=\"utf-8\") as file:\n",
    "    sanatci_adı = None\n",
    "    sanatci_biyografi = \"\"\n",
    "    for line in file:\n",
    "        if line.startswith(\"---\"):  # Sanatçı isimleri böyle formatlanmış olabilir\n",
    "            if sanatci_adı:  # Önceki sanatçının biyografisini kaydet\n",
    "                sanatci_listesi[sanatci_adı] = sanatci_biyografi.strip()\n",
    "            sanatci_adı = line.strip(\"---\").strip()  # Sanatçının adını al\n",
    "            sanatci_biyografi = \"\"  # Yeni sanatçı için sıfırla\n",
    "        else:\n",
    "            sanatci_biyografi += line  # Biyografi satırlarını birleştir\n",
    "\n",
    "    if sanatci_adı:  # Son sanatçıyı da ekleyelim\n",
    "        sanatci_listesi[sanatci_adı] = sanatci_biyografi.strip()\n"
   ]
  },
  {
   "cell_type": "code",
   "execution_count": 10,
   "id": "d376f02f-b5be-482a-8c1c-308ce6ffdc44",
   "metadata": {},
   "outputs": [
    {
     "name": "stdout",
     "output_type": "stream",
     "text": [
      "Frida Kahlo ---: magdalena carmen frida kahlo y calderón ( spanish pronunci : [ ˈfɾiða ˈkalo ] ; 6 juli 1907 – 13 juli 1954 ) wa a mexican painter known for her mani portrait , self-portrait , and work inspir by the n...\n",
      "Leonardo da Vinci ---: leonardo di ser piero da vinci ( 15 april 1452 – 2 may 1519 ) wa an italian polymath of the high renaiss who wa activ as a painter , draughtsman , engin , scientist , theorist , sculptor , and archite...\n",
      "Vincent van Gogh ---: vincent willem van gogh ( dutch : [ ˈvɪnsɛnt ˈʋɪləɱ vɑŋ ˈɣɔx ] ; 30 march 1853 – 29 juli 1890 ) wa a dutch post-impressionist painter who is among the most famou and influenti figur in the histori of ...\n",
      "Pablo Picasso ---: pablo diego josé francisco de paula juan nepomuceno maría de lo remedio cipriano de la santísima trinidad ruiz y picasso ( 25 octob 1881 – 8 april 1973 ) wa a spanish painter , sculptor , printmak , c...\n",
      "Andy Warhol ---: andi warhol ( ; born andrew warhola jr. ; august 6 , 1928 – februari 22 , 1987 ) wa an american visual artist , film director and produc . a lead figur in the pop art movement , warhol is consid the m...\n"
     ]
    }
   ],
   "source": [
    "import os\n",
    "import nltk\n",
    "from nltk.tokenize import word_tokenize\n",
    "from nltk.stem import PorterStemmer\n",
    "\n",
    "# Wikipedia API nesnesini oluşturuyoruz\n",
    "import wikipediaapi\n",
    "wiki_wiki = wikipediaapi.Wikipedia(user_agent=\"MyApp/1.0 (myemail@example.com)\", language=\"en\")\n",
    "\n",
    "# Porter Stemmer'ı başlat\n",
    "stemmer = PorterStemmer()\n",
    "\n",
    "# Dosya yolunu tanımla\n",
    "dosya_yolu = \"sanatcilar_biyografi.txt\"\n",
    "\n",
    "# Dosyanın mevcut olup olmadığını kontrol et\n",
    "sanatci_listesi = {}\n",
    "\n",
    "if os.path.exists(dosya_yolu):\n",
    "    with open(dosya_yolu, \"r\", encoding=\"utf-8\") as file:\n",
    "        sanatci_adı = None\n",
    "        sanatci_biyografi = \"\"\n",
    "\n",
    "        for line in file:\n",
    "            if line.startswith(\"---\"):  # Sanatçı isimleri böyle formatlanmış olabilir\n",
    "                if sanatci_adı:  # Önceki sanatçının biyografisini kaydet\n",
    "                    sanatci_listesi[sanatci_adı] = sanatci_biyografi.strip()\n",
    "                sanatci_adı = line.strip(\"---\").strip()  # Sanatçının adını al\n",
    "                sanatci_biyografi = \"\"  # Yeni sanatçı için sıfırla\n",
    "            else:\n",
    "                sanatci_biyografi += line.strip() + \" \"  # Biyografi satırlarını birleştir\n",
    "\n",
    "        if sanatci_adı:  # Son sanatçıyı ekleyelim\n",
    "            sanatci_listesi[sanatci_adı] = sanatci_biyografi.strip()\n",
    "else:\n",
    "    print(f\"Hata: '{dosya_yolu}' adlı dosya bulunamadı!\")\n",
    "    exit()  # Eğer dosya yoksa kodu burada durduruyoruz\n",
    "\n",
    "# Stemming işlemi\n",
    "for sanatci, biyografi in sanatci_listesi.items():\n",
    "    word_tokens = word_tokenize(biyografi)  # Metni kelimelere ayır\n",
    "    stemmed_words = [stemmer.stem(word.lower()) for word in word_tokens]  # Stemming uygula\n",
    "    sanatci_listesi[sanatci] = \" \".join(stemmed_words)  # Stemlenmiş metni kaydet\n",
    "\n",
    "# İlk 5 sanatçıyı ekrana yazdıralım\n",
    "for sanatci in list(sanatci_listesi.keys())[:5]:\n",
    "    print(f\"{sanatci}: {sanatci_listesi[sanatci][:200]}...\")\n"
   ]
  },
  {
   "cell_type": "code",
   "execution_count": null,
   "id": "7e92fc13-ef4b-41b4-a03a-3c63be641235",
   "metadata": {},
   "outputs": [],
   "source": []
  }
 ],
 "metadata": {
  "kernelspec": {
   "display_name": "Python 3 (ipykernel)",
   "language": "python",
   "name": "python3"
  },
  "language_info": {
   "codemirror_mode": {
    "name": "ipython",
    "version": 3
   },
   "file_extension": ".py",
   "mimetype": "text/x-python",
   "name": "python",
   "nbconvert_exporter": "python",
   "pygments_lexer": "ipython3",
   "version": "3.13.2"
  }
 },
 "nbformat": 4,
 "nbformat_minor": 5
}

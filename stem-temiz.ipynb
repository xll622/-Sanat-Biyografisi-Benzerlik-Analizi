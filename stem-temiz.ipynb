{
 "cells": [
  {
   "cell_type": "code",
   "execution_count": 1,
   "id": "ae2fe52b-07a3-45d5-b753-fafc1df26e0c",
   "metadata": {},
   "outputs": [
    {
     "name": "stderr",
     "output_type": "stream",
     "text": [
      "[nltk_data] Downloading package punkt to\n",
      "[nltk_data]     C:\\Users\\esra\\AppData\\Roaming\\nltk_data...\n",
      "[nltk_data]   Package punkt is already up-to-date!\n"
     ]
    },
    {
     "name": "stdout",
     "output_type": "stream",
     "text": [
      "Stemming işlemi tamamlandı! ✅ Dosya: sanatcilar_biyografi_stemmed.csv\n"
     ]
    }
   ],
   "source": [
    "import nltk\n",
    "import pandas as pd\n",
    "from nltk.tokenize import word_tokenize\n",
    "from nltk.stem import PorterStemmer\n",
    "\n",
    "# Gerekli kaynakları indir\n",
    "nltk.download('punkt')\n",
    "\n",
    "# Stemmer nesnesini oluştur\n",
    "stemmer = PorterStemmer()\n",
    "\n",
    "# Lowercased dosyayı aç ve oku\n",
    "dosya_yolu = \"sanatcilar_biyografi_lowercased.txt\"\n",
    "\n",
    "try:\n",
    "    with open(dosya_yolu, \"r\", encoding=\"utf-8\") as file:\n",
    "        text = file.read()\n",
    "except FileNotFoundError:\n",
    "    print(f\"Hata: '{dosya_yolu}' adlı dosya bulunamadı!\")\n",
    "    exit()\n",
    "\n",
    "# Kelimeleri tokenize et\n",
    "word_tokens = word_tokenize(text)\n",
    "\n",
    "# Stemming uygula\n",
    "stemmed_words = [stemmer.stem(word) for word in word_tokens]\n",
    "\n",
    "# **CSV olarak kaydetme**\n",
    "df = pd.DataFrame({\"Stemmed Words\": stemmed_words})\n",
    "csv_dosyasi = \"sanatcilar_biyografi_stemmed.csv\"\n",
    "df.to_csv(csv_dosyasi, index=False, encoding=\"utf-8\")\n",
    "\n",
    "print(f\"Stemming işlemi tamamlandı! ✅ Dosya: {csv_dosyasi}\")\n"
   ]
  },
  {
   "cell_type": "code",
   "execution_count": null,
   "id": "338427f4-cf2b-482d-aaa5-416356177278",
   "metadata": {},
   "outputs": [],
   "source": []
  }
 ],
 "metadata": {
  "kernelspec": {
   "display_name": "Python 3 (ipykernel)",
   "language": "python",
   "name": "python3"
  },
  "language_info": {
   "codemirror_mode": {
    "name": "ipython",
    "version": 3
   },
   "file_extension": ".py",
   "mimetype": "text/x-python",
   "name": "python",
   "nbconvert_exporter": "python",
   "pygments_lexer": "ipython3",
   "version": "3.13.2"
  }
 },
 "nbformat": 4,
 "nbformat_minor": 5
}

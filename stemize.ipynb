{
 "cells": [
  {
   "cell_type": "code",
   "execution_count": 21,
   "id": "e4e05249-209b-43c8-af27-7e4ce2a10f12",
   "metadata": {},
   "outputs": [
    {
     "name": "stderr",
     "output_type": "stream",
     "text": [
      "[nltk_data] Downloading package punkt to C:\\Users\\Elif\n",
      "[nltk_data]     Koyuncu\\AppData\\Roaming\\nltk_data...\n",
      "[nltk_data]   Package punkt is already up-to-date!\n"
     ]
    },
    {
     "name": "stdout",
     "output_type": "stream",
     "text": [
      "                                   temizlenmis_cumle  \\\n",
      "0  ['frida', 'kahlo', 'magdalena', 'carmen', 'fri...   \n",
      "1  ['inspired', 'country', 'popular', 'culture', ...   \n",
      "2  ['paintings', 'often', 'strong', 'autobiograph...   \n",
      "3  ['addition', 'belonging', 'mexicayotl', 'movem...   \n",
      "4  ['also', 'known', 'painting', 'experience', 'c...   \n",
      "\n",
      "                                    stemlenmis_cumle  \n",
      "0  [frida, kahlo, magdalena, carmen, frida, kahlo...  \n",
      "1  [inspir, countri, popular, cultur, employ, naï...  \n",
      "2  [paint, often, strong, autobiograph, element, ...  \n",
      "3  [addit, belong, mexicayotl, movement, sought, ...  \n",
      "4        [also, known, paint, experi, chronic, pain]  \n"
     ]
    }
   ],
   "source": [
    "import pandas as pd\n",
    "import nltk\n",
    "from nltk.stem import PorterStemmer\n",
    "import ast  # Güvenli şekilde string'i listeye çevirmek için\n",
    "\n",
    "nltk.download('punkt')\n",
    "\n",
    "stemmer = PorterStemmer()\n",
    "\n",
    "# Dosyayı oku\n",
    "df = pd.read_csv(\"temizlenmis_metin.csv\")\n",
    "\n",
    "# Stemleme fonksiyonu\n",
    "def stemle(kelimeler):\n",
    "    try:\n",
    "        kelimeler = ast.literal_eval(str(kelimeler))  # Liste gibi görünüyorsa gerçekten listeye çevir\n",
    "    except:\n",
    "        kelimeler = []\n",
    "    return [stemmer.stem(kelime) for kelime in kelimeler]\n",
    "\n",
    "# Uygula\n",
    "df['stemlenmis_cumle'] = df['temizlenmis_cumle'].apply(stemle)\n",
    "\n",
    "# Sonuçları göster\n",
    "print(df[['temizlenmis_cumle', 'stemlenmis_cumle']].head())\n",
    "\n",
    "# Kaydet\n",
    "df.to_csv('stem_cumleler.csv', index=False)\n"
   ]
  },
  {
   "cell_type": "code",
   "execution_count": null,
   "id": "4e8a0a55-ee7a-47df-b608-511519f6a9d9",
   "metadata": {},
   "outputs": [],
   "source": []
  },
  {
   "cell_type": "code",
   "execution_count": null,
   "id": "39f5b35b-35cb-4548-9daf-d8d2ea0a689c",
   "metadata": {},
   "outputs": [],
   "source": []
  }
 ],
 "metadata": {
  "kernelspec": {
   "display_name": "Python [conda env:base] *",
   "language": "python",
   "name": "conda-base-py"
  },
  "language_info": {
   "codemirror_mode": {
    "name": "ipython",
    "version": 3
   },
   "file_extension": ".py",
   "mimetype": "text/x-python",
   "name": "python",
   "nbconvert_exporter": "python",
   "pygments_lexer": "ipython3",
   "version": "3.12.7"
  }
 },
 "nbformat": 4,
 "nbformat_minor": 5
}
